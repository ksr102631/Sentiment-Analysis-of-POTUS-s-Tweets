{
 "cells": [
  {
   "cell_type": "code",
   "execution_count": 1,
   "metadata": {
    "collapsed": true
   },
   "outputs": [],
   "source": [
    "# General:\n",
    "import tweepy           # To consume Twitter's API\n",
    "import pandas as pd     # To handle data\n",
    "import numpy as np      # For number computing\n",
    "\n",
    "# For plotting and visualization:\n",
    "from IPython.display import display\n",
    "import matplotlib.pyplot as plt\n",
    "import seaborn as sns\n",
    "%matplotlib inline"
   ]
  },
  {
   "cell_type": "code",
   "execution_count": null,
   "metadata": {
    "collapsed": true
   },
   "outputs": [],
   "source": [
    "#Article Link\n",
    "#https://dev.to/rodolfoferro/sentiment-analysis-on-trumpss-tweets-using-python-?utm_campaign=Data%2BElixir&utm_medium=web&utm_source=Data_Elixir_149"
   ]
  },
  {
   "cell_type": "code",
   "execution_count": 2,
   "metadata": {},
   "outputs": [
    {
     "name": "stdout",
     "output_type": "stream",
     "text": [
      "Collecting tweepy\n",
      "  Downloading tweepy-3.5.0-py2.py3-none-any.whl\n",
      "Requirement already satisfied: six>=1.7.3 in c:\\users\\sreeram\\anaconda2\\lib\\site-packages (from tweepy)\n",
      "Requirement already satisfied: requests>=2.4.3 in c:\\users\\sreeram\\anaconda2\\lib\\site-packages (from tweepy)\n",
      "Collecting requests-oauthlib>=0.4.1 (from tweepy)\n",
      "  Downloading requests_oauthlib-0.8.0-py2.py3-none-any.whl\n",
      "Requirement already satisfied: urllib3<1.23,>=1.21.1 in c:\\users\\sreeram\\anaconda2\\lib\\site-packages (from requests>=2.4.3->tweepy)\n",
      "Requirement already satisfied: idna<2.7,>=2.5 in c:\\users\\sreeram\\anaconda2\\lib\\site-packages (from requests>=2.4.3->tweepy)\n",
      "Requirement already satisfied: chardet<3.1.0,>=3.0.2 in c:\\users\\sreeram\\anaconda2\\lib\\site-packages (from requests>=2.4.3->tweepy)\n",
      "Requirement already satisfied: certifi>=2017.4.17 in c:\\users\\sreeram\\anaconda2\\lib\\site-packages (from requests>=2.4.3->tweepy)\n",
      "Collecting oauthlib>=0.6.2 (from requests-oauthlib>=0.4.1->tweepy)\n",
      "  Downloading oauthlib-2.0.4.tar.gz (127kB)\n",
      "Building wheels for collected packages: oauthlib\n",
      "  Running setup.py bdist_wheel for oauthlib: started\n",
      "  Running setup.py bdist_wheel for oauthlib: finished with status 'done'\n",
      "  Stored in directory: C:\\Users\\sreeram\\AppData\\Local\\pip\\Cache\\wheels\\f2\\65\\44\\161426fc672522705a712b38a67376d8cc122ab7ca2e7dce2a\n",
      "Successfully built oauthlib\n",
      "Installing collected packages: oauthlib, requests-oauthlib, tweepy\n",
      "Successfully installed oauthlib-2.0.4 requests-oauthlib-0.8.0 tweepy-3.5.0\n"
     ]
    }
   ],
   "source": [
    "!pip install tweepy"
   ]
  },
  {
   "cell_type": "code",
   "execution_count": 2,
   "metadata": {
    "collapsed": true
   },
   "outputs": [],
   "source": [
    "# We import our access keys:\n",
    "from credentials import *    # This will allow us to use the keys as variables\n",
    "\n",
    "# API's setup:\n",
    "def twitter_setup():\n",
    "    \"\"\"\n",
    "    Utility function to setup the Twitter's API\n",
    "    with our access keys provided.\n",
    "    \"\"\"\n",
    "    # Authentication and access using keys:\n",
    "    auth = tweepy.OAuthHandler(CONSUMER_KEY, CONSUMER_SECRET)\n",
    "    auth.set_access_token(ACCESS_TOKEN, ACCESS_SECRET)\n",
    "\n",
    "    # Return API with authentication:\n",
    "    api = tweepy.API(auth)\n",
    "    return api"
   ]
  },
  {
   "cell_type": "code",
   "execution_count": 3,
   "metadata": {},
   "outputs": [
    {
     "name": "stdout",
     "output_type": "stream",
     "text": [
      "5 Recent tweets are :\n",
      "\n",
      "Governor @RicardoRossello- \n",
      "We are with you and the people of Puerto Rico. Stay safe! #PRStrong\n",
      "Senator (Doctor) Bill Cassidy is a class act who really cares about people and their Health(care), he doesn't lie-just wants to help people!\n",
      "The NRA strongly endorses Luther Strange for Senator of Alabama.That means all gun owners should vote for Big Luther. He won't let you down!\n",
      "I would not sign Graham-Cassidy if it did not include coverage of pre-existing conditions. It does! A great Bill. Repeal &amp; Replace.\n",
      "Alabama is sooo lucky to have a candidate like \"Big\" Luther Strange. Smart, tough on crime, borders &amp; trade, loves Vets &amp; Military. Tuesday!\n"
     ]
    }
   ],
   "source": [
    "# Tweets Extraction\n",
    "\n",
    "#1. Create an extractor object\n",
    "extractor = twitter_setup()\n",
    "\n",
    "#2. Create a tweet list\n",
    "tweets = extractor.user_timeline(screen_name=\"realDonaldTrump\", count=200)\n",
    "\n",
    "#3. 5 recent tweets\n",
    "\n",
    "print(\"5 Recent tweets are :\\n\")\n",
    "for x in tweets[:5]:\n",
    "    print(x.text)\n",
    "    "
   ]
  },
  {
   "cell_type": "code",
   "execution_count": 4,
   "metadata": {},
   "outputs": [
    {
     "name": "stdout",
     "output_type": "stream",
     "text": [
      "                                              Tweets\n",
      "0  Governor @RicardoRossello- \\nWe are with you a...\n",
      "1  Senator (Doctor) Bill Cassidy is a class act w...\n",
      "2  The NRA strongly endorses Luther Strange for S...\n",
      "3  I would not sign Graham-Cassidy if it did not ...\n",
      "4  Alabama is sooo lucky to have a candidate like...\n",
      "5  On behalf of all Americans, I want to wish Jew...\n",
      "6  RT @VP: Went to the Senate today to say @POTUS...\n",
      "7  Honored to host a luncheon for African leaders...\n",
      "8  Honored to meet w/ Pres Abbas from the Palesti...\n",
      "9  It was a great honor to be with King Abdullah ...\n"
     ]
    }
   ],
   "source": [
    "##1.4. Creating a (pandas) DataFrame\n",
    "\n",
    "# We create a pandas dataframe as follows:\n",
    "data = pd.DataFrame(data = [x.text for x in tweets], columns = ['Tweets'])\n",
    "print(data.head(10))"
   ]
  },
  {
   "cell_type": "code",
   "execution_count": 5,
   "metadata": {},
   "outputs": [
    {
     "name": "stdout",
     "output_type": "stream",
     "text": [
      "['__class__', '__delattr__', '__dict__', '__doc__', '__eq__', '__format__', '__getattribute__', '__getstate__', '__hash__', '__init__', '__module__', '__ne__', '__new__', '__reduce__', '__reduce_ex__', '__repr__', '__setattr__', '__sizeof__', '__str__', '__subclasshook__', '__weakref__', '_api', '_json', 'author', 'contributors', 'coordinates', 'created_at', 'destroy', 'entities', 'favorite', 'favorite_count', 'favorited', 'geo', 'id', 'id_str', 'in_reply_to_screen_name', 'in_reply_to_status_id', 'in_reply_to_status_id_str', 'in_reply_to_user_id', 'in_reply_to_user_id_str', 'is_quote_status', 'lang', 'parse', 'parse_list', 'place', 'retweet', 'retweet_count', 'retweeted', 'retweets', 'source', 'source_url', 'text', 'truncated', 'user']\n"
     ]
    }
   ],
   "source": [
    "# Internal methods of a single tweet object\n",
    "print(dir(tweets[0]))"
   ]
  },
  {
   "cell_type": "code",
   "execution_count": 6,
   "metadata": {},
   "outputs": [
    {
     "name": "stdout",
     "output_type": "stream",
     "text": [
      "910703407555600386\n",
      "2017-09-21 03:13:07\n",
      "Twitter for iPhone\n",
      "12967\n",
      "3065\n",
      "None\n",
      "None\n",
      "{u'symbols': [], u'user_mentions': [{u'id': 80013913, u'indices': [9, 25], u'id_str': u'80013913', u'screen_name': u'ricardorossello', u'name': u'Ricardo Rossello'}], u'hashtags': [{u'indices': [86, 95], u'text': u'PRStrong'}], u'urls': []}\n"
     ]
    }
   ],
   "source": [
    "# We print info from the first tweet:\n",
    "print(tweets[0].id)\n",
    "print(tweets[0].created_at)\n",
    "print(tweets[0].source)\n",
    "print(tweets[0].favorite_count)\n",
    "print(tweets[0].retweet_count)\n",
    "print(tweets[0].geo)\n",
    "print(tweets[0].coordinates)\n",
    "print(tweets[0].entities)"
   ]
  },
  {
   "cell_type": "code",
   "execution_count": 7,
   "metadata": {
    "collapsed": true
   },
   "outputs": [],
   "source": [
    "## We add the relevant data\n",
    "data['len'] = np.array([len(tweet.text) for tweet in tweets])\n",
    "data['ID']   = np.array([tweet.id for tweet in tweets])\n",
    "data['Date'] = np.array([tweet.created_at for tweet in tweets])\n",
    "data['Source'] = np.array([tweet.source for tweet in tweets])\n",
    "data['Likes']  = np.array([tweet.favorite_count for tweet in tweets])\n",
    "data['RTs']    = np.array([tweet.retweet_count for tweet in tweets])"
   ]
  },
  {
   "cell_type": "code",
   "execution_count": 8,
   "metadata": {},
   "outputs": [
    {
     "name": "stdout",
     "output_type": "stream",
     "text": [
      "                                              Tweets  len                  ID  \\\n",
      "0  Governor @RicardoRossello- \\nWe are with you a...   95  910703407555600386   \n",
      "1  Senator (Doctor) Bill Cassidy is a class act w...  140  910671525543645185   \n",
      "2  The NRA strongly endorses Luther Strange for S...  140  910665452048838661   \n",
      "3  I would not sign Graham-Cassidy if it did not ...  135  910641701064204288   \n",
      "4  Alabama is sooo lucky to have a candidate like...  148  910635327672512512   \n",
      "5  On behalf of all Americans, I want to wish Jew...  138  910632095088889857   \n",
      "6  RT @VP: Went to the Senate today to say @POTUS...  144  910581819078316034   \n",
      "7  Honored to host a luncheon for African leaders...  143  910580644597649409   \n",
      "8  Honored to meet w/ Pres Abbas from the Palesti...  144  910551350408241152   \n",
      "9  It was a great honor to be with King Abdullah ...  140  910524897515905025   \n",
      "\n",
      "                 Date              Source  Likes   RTs  \n",
      "0 2017-09-21 03:13:07  Twitter for iPhone  12967  3065  \n",
      "1 2017-09-21 01:06:25  Twitter for iPhone  25666  5483  \n",
      "2 2017-09-21 00:42:17  Twitter for iPhone  25891  5347  \n",
      "3 2017-09-20 23:07:55  Twitter for iPhone  39760  9906  \n",
      "4 2017-09-20 22:42:35  Twitter for iPhone  26251  4874  \n",
      "5 2017-09-20 22:29:44  Twitter for iPhone  30671  7333  \n",
      "6 2017-09-20 19:09:58  Twitter for iPhone      0  5997  \n",
      "7 2017-09-20 19:05:18  Twitter for iPhone  29361  6635  \n",
      "8 2017-09-20 17:08:53        Media Studio  25757  5448  \n",
      "9 2017-09-20 15:23:46        Media Studio  34083  7087  \n"
     ]
    }
   ],
   "source": [
    "print(data.head(10))"
   ]
  },
  {
   "cell_type": "code",
   "execution_count": 13,
   "metadata": {
    "collapsed": true
   },
   "outputs": [],
   "source": [
    "## 2. Visualization and basic statistics\n",
    "mean_of_tweets = data.mean()"
   ]
  },
  {
   "cell_type": "code",
   "execution_count": 14,
   "metadata": {},
   "outputs": [
    {
     "name": "stdout",
     "output_type": "stream",
     "text": [
      "len      1.227350e+02\n",
      "ID       9.067894e+17\n",
      "Likes    5.872627e+04\n",
      "RTs      1.587247e+04\n",
      "dtype: float64\n"
     ]
    }
   ],
   "source": [
    "print(mean_of_tweets)"
   ]
  },
  {
   "cell_type": "code",
   "execution_count": 15,
   "metadata": {},
   "outputs": [
    {
     "name": "stdout",
     "output_type": "stream",
     "text": [
      "122.735\n"
     ]
    }
   ],
   "source": [
    "print(data.len.mean())"
   ]
  },
  {
   "cell_type": "code",
   "execution_count": 16,
   "metadata": {
    "collapsed": true
   },
   "outputs": [],
   "source": [
    "fav_max = np.max(data.Likes)\n",
    "rt_max = np.max(data.RTs)"
   ]
  },
  {
   "cell_type": "code",
   "execution_count": 17,
   "metadata": {},
   "outputs": [
    {
     "data": {
      "text/plain": [
       "183083"
      ]
     },
     "execution_count": 17,
     "metadata": {},
     "output_type": "execute_result"
    }
   ],
   "source": [
    "fav_max"
   ]
  },
  {
   "cell_type": "code",
   "execution_count": 18,
   "metadata": {
    "collapsed": true
   },
   "outputs": [],
   "source": [
    "fav = data[data.Likes == fav_max].index\n",
    "rt = data[data.RTs == rt_max]"
   ]
  },
  {
   "cell_type": "code",
   "execution_count": 19,
   "metadata": {},
   "outputs": [
    {
     "data": {
      "text/plain": [
       "Int64Index([29], dtype='int64')"
      ]
     },
     "execution_count": 19,
     "metadata": {},
     "output_type": "execute_result"
    }
   ],
   "source": [
    "fav\n"
   ]
  },
  {
   "cell_type": "code",
   "execution_count": 12,
   "metadata": {},
   "outputs": [
    {
     "ename": "AttributeError",
     "evalue": "'Int64Index' object has no attribute 'index'",
     "output_type": "error",
     "traceback": [
      "\u001b[1;31m---------------------------------------------------------------------------\u001b[0m",
      "\u001b[1;31mAttributeError\u001b[0m                            Traceback (most recent call last)",
      "\u001b[1;32m<ipython-input-12-849969d8b566>\u001b[0m in \u001b[0;36m<module>\u001b[1;34m()\u001b[0m\n\u001b[1;32m----> 1\u001b[1;33m \u001b[0mfav\u001b[0m \u001b[1;33m=\u001b[0m \u001b[0mfav\u001b[0m\u001b[1;33m.\u001b[0m\u001b[0mindex\u001b[0m\u001b[1;33m[\u001b[0m\u001b[1;36m0\u001b[0m\u001b[1;33m]\u001b[0m\u001b[1;33m\u001b[0m\u001b[0m\n\u001b[0m\u001b[0;32m      2\u001b[0m \u001b[0mrt\u001b[0m \u001b[1;33m=\u001b[0m \u001b[0mrt\u001b[0m\u001b[1;33m.\u001b[0m\u001b[0mindex\u001b[0m\u001b[1;33m[\u001b[0m\u001b[1;36m0\u001b[0m\u001b[1;33m]\u001b[0m\u001b[1;33m\u001b[0m\u001b[0m\n",
      "\u001b[1;31mAttributeError\u001b[0m: 'Int64Index' object has no attribute 'index'"
     ]
    }
   ],
   "source": [
    "fav = fav.index[0]\n",
    "rt = rt.index[0]"
   ]
  },
  {
   "cell_type": "code",
   "execution_count": 20,
   "metadata": {},
   "outputs": [
    {
     "name": "stderr",
     "output_type": "stream",
     "text": [
      "IOPub data rate exceeded.\n",
      "The notebook server will temporarily stop sending output\n",
      "to the client in order to avoid crashing it.\n",
      "To change this limit, set the config variable\n",
      "`--NotebookApp.iopub_data_rate_limit`.\n"
     ]
    }
   ],
   "source": [
    "print(\"The tweet with more likes is :\\n{}\".format(data[tweets][fav]))"
   ]
  },
  {
   "cell_type": "code",
   "execution_count": 21,
   "metadata": {},
   "outputs": [
    {
     "name": "stdout",
     "output_type": "stream",
     "text": [
      "The max likes is : \n",
      "183083\n"
     ]
    }
   ],
   "source": [
    "print(\"The max likes is : \\n{}\".format(fav_max))"
   ]
  },
  {
   "cell_type": "code",
   "execution_count": 23,
   "metadata": {},
   "outputs": [
    {
     "data": {
      "text/html": [
       "<div>\n",
       "<style>\n",
       "    .dataframe thead tr:only-child th {\n",
       "        text-align: right;\n",
       "    }\n",
       "\n",
       "    .dataframe thead th {\n",
       "        text-align: left;\n",
       "    }\n",
       "\n",
       "    .dataframe tbody tr th {\n",
       "        vertical-align: top;\n",
       "    }\n",
       "</style>\n",
       "<table border=\"1\" class=\"dataframe\">\n",
       "  <thead>\n",
       "    <tr style=\"text-align: right;\">\n",
       "      <th></th>\n",
       "      <th>Tweets</th>\n",
       "      <th>len</th>\n",
       "      <th>ID</th>\n",
       "      <th>Date</th>\n",
       "      <th>Source</th>\n",
       "      <th>Likes</th>\n",
       "      <th>RTs</th>\n",
       "    </tr>\n",
       "  </thead>\n",
       "  <tbody>\n",
       "    <tr>\n",
       "      <th>0</th>\n",
       "      <td>Governor @RicardoRossello- \\nWe are with you a...</td>\n",
       "      <td>95</td>\n",
       "      <td>910703407555600386</td>\n",
       "      <td>2017-09-21 03:13:07</td>\n",
       "      <td>Twitter for iPhone</td>\n",
       "      <td>12967</td>\n",
       "      <td>3065</td>\n",
       "    </tr>\n",
       "    <tr>\n",
       "      <th>1</th>\n",
       "      <td>Senator (Doctor) Bill Cassidy is a class act w...</td>\n",
       "      <td>140</td>\n",
       "      <td>910671525543645185</td>\n",
       "      <td>2017-09-21 01:06:25</td>\n",
       "      <td>Twitter for iPhone</td>\n",
       "      <td>25666</td>\n",
       "      <td>5483</td>\n",
       "    </tr>\n",
       "    <tr>\n",
       "      <th>2</th>\n",
       "      <td>The NRA strongly endorses Luther Strange for S...</td>\n",
       "      <td>140</td>\n",
       "      <td>910665452048838661</td>\n",
       "      <td>2017-09-21 00:42:17</td>\n",
       "      <td>Twitter for iPhone</td>\n",
       "      <td>25891</td>\n",
       "      <td>5347</td>\n",
       "    </tr>\n",
       "    <tr>\n",
       "      <th>3</th>\n",
       "      <td>I would not sign Graham-Cassidy if it did not ...</td>\n",
       "      <td>135</td>\n",
       "      <td>910641701064204288</td>\n",
       "      <td>2017-09-20 23:07:55</td>\n",
       "      <td>Twitter for iPhone</td>\n",
       "      <td>39760</td>\n",
       "      <td>9906</td>\n",
       "    </tr>\n",
       "    <tr>\n",
       "      <th>4</th>\n",
       "      <td>Alabama is sooo lucky to have a candidate like...</td>\n",
       "      <td>148</td>\n",
       "      <td>910635327672512512</td>\n",
       "      <td>2017-09-20 22:42:35</td>\n",
       "      <td>Twitter for iPhone</td>\n",
       "      <td>26251</td>\n",
       "      <td>4874</td>\n",
       "    </tr>\n",
       "  </tbody>\n",
       "</table>\n",
       "</div>"
      ],
      "text/plain": [
       "                                              Tweets  len                  ID  \\\n",
       "0  Governor @RicardoRossello- \\nWe are with you a...   95  910703407555600386   \n",
       "1  Senator (Doctor) Bill Cassidy is a class act w...  140  910671525543645185   \n",
       "2  The NRA strongly endorses Luther Strange for S...  140  910665452048838661   \n",
       "3  I would not sign Graham-Cassidy if it did not ...  135  910641701064204288   \n",
       "4  Alabama is sooo lucky to have a candidate like...  148  910635327672512512   \n",
       "\n",
       "                 Date              Source  Likes   RTs  \n",
       "0 2017-09-21 03:13:07  Twitter for iPhone  12967  3065  \n",
       "1 2017-09-21 01:06:25  Twitter for iPhone  25666  5483  \n",
       "2 2017-09-21 00:42:17  Twitter for iPhone  25891  5347  \n",
       "3 2017-09-20 23:07:55  Twitter for iPhone  39760  9906  \n",
       "4 2017-09-20 22:42:35  Twitter for iPhone  26251  4874  "
      ]
     },
     "execution_count": 23,
     "metadata": {},
     "output_type": "execute_result"
    }
   ],
   "source": [
    "data.head(5)"
   ]
  },
  {
   "cell_type": "code",
   "execution_count": 29,
   "metadata": {},
   "outputs": [
    {
     "data": {
      "text/plain": [
       "0    2017-09-20 02:41:13\n",
       "1    2017-09-20 02:33:32\n",
       "2    2017-09-20 02:31:19\n",
       "3    2017-09-20 02:23:52\n",
       "4    2017-09-20 01:19:00\n",
       "5    2017-09-19 22:04:11\n",
       "6    2017-09-19 20:05:32\n",
       "7    2017-09-19 19:09:35\n",
       "8    2017-09-19 17:22:27\n",
       "9    2017-09-19 11:22:59\n",
       "10   2017-09-19 11:21:30\n",
       "11   2017-09-19 04:47:03\n",
       "12   2017-09-19 04:18:41\n",
       "13   2017-09-19 03:01:25\n",
       "14   2017-09-18 23:31:07\n",
       "15   2017-09-18 16:57:27\n",
       "16   2017-09-18 16:36:09\n",
       "17   2017-09-18 13:16:17\n",
       "18   2017-09-18 13:14:46\n",
       "19   2017-09-17 13:03:32\n",
       "20   2017-09-17 13:02:26\n",
       "21   2017-09-17 13:00:05\n",
       "22   2017-09-17 12:29:57\n",
       "23   2017-09-17 12:28:08\n",
       "24   2017-09-17 12:16:31\n",
       "25   2017-09-17 12:12:19\n",
       "26   2017-09-17 12:12:02\n",
       "27   2017-09-17 12:11:39\n",
       "28   2017-09-17 12:05:59\n",
       "29   2017-09-17 12:02:42\n",
       "Name: Date, dtype: datetime64[ns]"
      ]
     },
     "execution_count": 29,
     "metadata": {},
     "output_type": "execute_result"
    }
   ],
   "source": [
    "data.Date[:30]"
   ]
  },
  {
   "cell_type": "code",
   "execution_count": 24,
   "metadata": {
    "collapsed": true
   },
   "outputs": [],
   "source": [
    "## Time series\n",
    "\n",
    "tlen = pd.Series(data = data.len.values, index = data.Date)\n",
    "tfav = pd.Series(data=data['Likes'].values, index=data['Date'])\n",
    "tret = pd.Series(data=data['RTs'].values, index=data['Date'])"
   ]
  },
  {
   "cell_type": "code",
   "execution_count": 25,
   "metadata": {},
   "outputs": [
    {
     "data": {
      "text/plain": [
       "<matplotlib.axes._subplots.AxesSubplot at 0xf6574a8>"
      ]
     },
     "execution_count": 25,
     "metadata": {},
     "output_type": "execute_result"
    },
    {
     "data": {
      "image/png": "[encoded data removed]",
      "text/plain": [
       "<matplotlib.figure.Figure at 0xdc94f98>"
      ]
     },
     "metadata": {},
     "output_type": "display_data"
    }
   ],
   "source": [
    "tfav.plot(label = \"Likes\", legend = True)\n",
    "tret.plot(label = \"Retweets\", legend = True)"
   ]
  },
  {
   "cell_type": "code",
   "execution_count": 26,
   "metadata": {},
   "outputs": [
    {
     "name": "stdout",
     "output_type": "stream",
     "text": [
      "Requirement already satisfied: textblob in c:\\users\\sreeram\\anaconda2\\lib\\site-packages\n",
      "Requirement already satisfied: nltk>=3.1 in c:\\users\\sreeram\\anaconda2\\lib\\site-packages (from textblob)\n",
      "Requirement already satisfied: six in c:\\users\\sreeram\\anaconda2\\lib\\site-packages (from nltk>=3.1->textblob)\n"
     ]
    }
   ],
   "source": [
    "!pip install textblob"
   ]
  },
  {
   "cell_type": "code",
   "execution_count": 27,
   "metadata": {
    "collapsed": true
   },
   "outputs": [],
   "source": [
    "from textblob import TextBlob"
   ]
  },
  {
   "cell_type": "code",
   "execution_count": 28,
   "metadata": {
    "collapsed": true
   },
   "outputs": [],
   "source": [
    "import re"
   ]
  },
  {
   "cell_type": "code",
   "execution_count": 29,
   "metadata": {
    "collapsed": true
   },
   "outputs": [],
   "source": [
    "def clean_tweet(tweet):\n",
    "    return ' '.join(re.sub(\"(@[A-Za-z0-9]+)|([^0-9A-Za-z \\t])|(\\w+:\\/\\/\\S+)\", \" \", tweet).split())\n",
    "    "
   ]
  },
  {
   "cell_type": "code",
   "execution_count": 30,
   "metadata": {
    "collapsed": true
   },
   "outputs": [],
   "source": [
    "def analyze_sentiment(tweet):\n",
    "    analysis = TextBlob(clean_tweet(tweet))\n",
    "    if analysis.sentiment.polarity >0:\n",
    "        return 1\n",
    "    elif analysis.sentiment.polarity == 0:\n",
    "        return 0\n",
    "    else:\n",
    "        return -1"
   ]
  },
  {
   "cell_type": "code",
   "execution_count": 31,
   "metadata": {
    "collapsed": true
   },
   "outputs": [],
   "source": [
    "data['SA'] = np.array([analyze_sentiment(tweet) for tweet in data['Tweets']])"
   ]
  },
  {
   "cell_type": "code",
   "execution_count": 32,
   "metadata": {},
   "outputs": [
    {
     "data": {
      "text/html": [
       "<div>\n",
       "<style>\n",
       "    .dataframe thead tr:only-child th {\n",
       "        text-align: right;\n",
       "    }\n",
       "\n",
       "    .dataframe thead th {\n",
       "        text-align: left;\n",
       "    }\n",
       "\n",
       "    .dataframe tbody tr th {\n",
       "        vertical-align: top;\n",
       "    }\n",
       "</style>\n",
       "<table border=\"1\" class=\"dataframe\">\n",
       "  <thead>\n",
       "    <tr style=\"text-align: right;\">\n",
       "      <th></th>\n",
       "      <th>Tweets</th>\n",
       "      <th>len</th>\n",
       "      <th>ID</th>\n",
       "      <th>Date</th>\n",
       "      <th>Source</th>\n",
       "      <th>Likes</th>\n",
       "      <th>RTs</th>\n",
       "      <th>SA</th>\n",
       "    </tr>\n",
       "  </thead>\n",
       "  <tbody>\n",
       "    <tr>\n",
       "      <th>0</th>\n",
       "      <td>Governor @RicardoRossello- \\nWe are with you a...</td>\n",
       "      <td>95</td>\n",
       "      <td>910703407555600386</td>\n",
       "      <td>2017-09-21 03:13:07</td>\n",
       "      <td>Twitter for iPhone</td>\n",
       "      <td>12967</td>\n",
       "      <td>3065</td>\n",
       "      <td>1</td>\n",
       "    </tr>\n",
       "    <tr>\n",
       "      <th>1</th>\n",
       "      <td>Senator (Doctor) Bill Cassidy is a class act w...</td>\n",
       "      <td>140</td>\n",
       "      <td>910671525543645185</td>\n",
       "      <td>2017-09-21 01:06:25</td>\n",
       "      <td>Twitter for iPhone</td>\n",
       "      <td>25666</td>\n",
       "      <td>5483</td>\n",
       "      <td>1</td>\n",
       "    </tr>\n",
       "    <tr>\n",
       "      <th>2</th>\n",
       "      <td>The NRA strongly endorses Luther Strange for S...</td>\n",
       "      <td>140</td>\n",
       "      <td>910665452048838661</td>\n",
       "      <td>2017-09-21 00:42:17</td>\n",
       "      <td>Twitter for iPhone</td>\n",
       "      <td>25891</td>\n",
       "      <td>5347</td>\n",
       "      <td>1</td>\n",
       "    </tr>\n",
       "    <tr>\n",
       "      <th>3</th>\n",
       "      <td>I would not sign Graham-Cassidy if it did not ...</td>\n",
       "      <td>135</td>\n",
       "      <td>910641701064204288</td>\n",
       "      <td>2017-09-20 23:07:55</td>\n",
       "      <td>Twitter for iPhone</td>\n",
       "      <td>39760</td>\n",
       "      <td>9906</td>\n",
       "      <td>1</td>\n",
       "    </tr>\n",
       "    <tr>\n",
       "      <th>4</th>\n",
       "      <td>Alabama is sooo lucky to have a candidate like...</td>\n",
       "      <td>148</td>\n",
       "      <td>910635327672512512</td>\n",
       "      <td>2017-09-20 22:42:35</td>\n",
       "      <td>Twitter for iPhone</td>\n",
       "      <td>26251</td>\n",
       "      <td>4874</td>\n",
       "      <td>1</td>\n",
       "    </tr>\n",
       "    <tr>\n",
       "      <th>5</th>\n",
       "      <td>On behalf of all Americans, I want to wish Jew...</td>\n",
       "      <td>138</td>\n",
       "      <td>910632095088889857</td>\n",
       "      <td>2017-09-20 22:29:44</td>\n",
       "      <td>Twitter for iPhone</td>\n",
       "      <td>30671</td>\n",
       "      <td>7333</td>\n",
       "      <td>1</td>\n",
       "    </tr>\n",
       "    <tr>\n",
       "      <th>6</th>\n",
       "      <td>RT @VP: Went to the Senate today to say @POTUS...</td>\n",
       "      <td>144</td>\n",
       "      <td>910581819078316034</td>\n",
       "      <td>2017-09-20 19:09:58</td>\n",
       "      <td>Twitter for iPhone</td>\n",
       "      <td>0</td>\n",
       "      <td>5997</td>\n",
       "      <td>0</td>\n",
       "    </tr>\n",
       "    <tr>\n",
       "      <th>7</th>\n",
       "      <td>Honored to host a luncheon for African leaders...</td>\n",
       "      <td>143</td>\n",
       "      <td>910580644597649409</td>\n",
       "      <td>2017-09-20 19:05:18</td>\n",
       "      <td>Twitter for iPhone</td>\n",
       "      <td>29361</td>\n",
       "      <td>6635</td>\n",
       "      <td>1</td>\n",
       "    </tr>\n",
       "    <tr>\n",
       "      <th>8</th>\n",
       "      <td>Honored to meet w/ Pres Abbas from the Palesti...</td>\n",
       "      <td>144</td>\n",
       "      <td>910551350408241152</td>\n",
       "      <td>2017-09-20 17:08:53</td>\n",
       "      <td>Media Studio</td>\n",
       "      <td>25757</td>\n",
       "      <td>5448</td>\n",
       "      <td>-1</td>\n",
       "    </tr>\n",
       "    <tr>\n",
       "      <th>9</th>\n",
       "      <td>It was a great honor to be with King Abdullah ...</td>\n",
       "      <td>140</td>\n",
       "      <td>910524897515905025</td>\n",
       "      <td>2017-09-20 15:23:46</td>\n",
       "      <td>Media Studio</td>\n",
       "      <td>34083</td>\n",
       "      <td>7087</td>\n",
       "      <td>1</td>\n",
       "    </tr>\n",
       "  </tbody>\n",
       "</table>\n",
       "</div>"
      ],
      "text/plain": [
       "                                              Tweets  len                  ID  \\\n",
       "0  Governor @RicardoRossello- \\nWe are with you a...   95  910703407555600386   \n",
       "1  Senator (Doctor) Bill Cassidy is a class act w...  140  910671525543645185   \n",
       "2  The NRA strongly endorses Luther Strange for S...  140  910665452048838661   \n",
       "3  I would not sign Graham-Cassidy if it did not ...  135  910641701064204288   \n",
       "4  Alabama is sooo lucky to have a candidate like...  148  910635327672512512   \n",
       "5  On behalf of all Americans, I want to wish Jew...  138  910632095088889857   \n",
       "6  RT @VP: Went to the Senate today to say @POTUS...  144  910581819078316034   \n",
       "7  Honored to host a luncheon for African leaders...  143  910580644597649409   \n",
       "8  Honored to meet w/ Pres Abbas from the Palesti...  144  910551350408241152   \n",
       "9  It was a great honor to be with King Abdullah ...  140  910524897515905025   \n",
       "\n",
       "                 Date              Source  Likes   RTs  SA  \n",
       "0 2017-09-21 03:13:07  Twitter for iPhone  12967  3065   1  \n",
       "1 2017-09-21 01:06:25  Twitter for iPhone  25666  5483   1  \n",
       "2 2017-09-21 00:42:17  Twitter for iPhone  25891  5347   1  \n",
       "3 2017-09-20 23:07:55  Twitter for iPhone  39760  9906   1  \n",
       "4 2017-09-20 22:42:35  Twitter for iPhone  26251  4874   1  \n",
       "5 2017-09-20 22:29:44  Twitter for iPhone  30671  7333   1  \n",
       "6 2017-09-20 19:09:58  Twitter for iPhone      0  5997   0  \n",
       "7 2017-09-20 19:05:18  Twitter for iPhone  29361  6635   1  \n",
       "8 2017-09-20 17:08:53        Media Studio  25757  5448  -1  \n",
       "9 2017-09-20 15:23:46        Media Studio  34083  7087   1  "
      ]
     },
     "execution_count": 32,
     "metadata": {},
     "output_type": "execute_result"
    }
   ],
   "source": [
    "data.head(10)"
   ]
  },
  {
   "cell_type": "code",
   "execution_count": 35,
   "metadata": {},
   "outputs": [],
   "source": [
    "o1 = data[data.SA == 1]"
   ]
  },
  {
   "cell_type": "code",
   "execution_count": 37,
   "metadata": {},
   "outputs": [
    {
     "data": {
      "text/plain": [
       "111"
      ]
     },
     "execution_count": 37,
     "metadata": {},
     "output_type": "execute_result"
    }
   ],
   "source": [
    "len(o1)"
   ]
  },
  {
   "cell_type": "code",
   "execution_count": 38,
   "metadata": {
    "collapsed": true
   },
   "outputs": [],
   "source": [
    "o2 = data[data.SA == -1]"
   ]
  },
  {
   "cell_type": "code",
   "execution_count": 39,
   "metadata": {},
   "outputs": [
    {
     "data": {
      "text/plain": [
       "36"
      ]
     },
     "execution_count": 39,
     "metadata": {},
     "output_type": "execute_result"
    }
   ],
   "source": [
    "len(o2)"
   ]
  },
  {
   "cell_type": "code",
   "execution_count": 40,
   "metadata": {},
   "outputs": [
    {
     "name": "stdout",
     "output_type": "stream",
     "text": [
      "53\n"
     ]
    }
   ],
   "source": [
    "print(len(data[data.SA == 0]))"
   ]
  },
  {
   "cell_type": "code",
   "execution_count": 64,
   "metadata": {},
   "outputs": [
    {
     "ename": "SyntaxError",
     "evalue": "unexpected EOF while parsing (<ipython-input-64-7dfa4048ac18>, line 1)",
     "output_type": "error",
     "traceback": [
      "\u001b[1;36m  File \u001b[1;32m\"<ipython-input-64-7dfa4048ac18>\"\u001b[1;36m, line \u001b[1;32m1\u001b[0m\n\u001b[1;33m    print(\"The % of positive tweets is {%d}%\".format((float(111)*100)/float(200))\u001b[0m\n\u001b[1;37m                                                                                 ^\u001b[0m\n\u001b[1;31mSyntaxError\u001b[0m\u001b[1;31m:\u001b[0m unexpected EOF while parsing\n"
     ]
    }
   ],
   "source": [
    "print(\"The % of positive tweets is {%d}%\".format((float(111)*100)/float(200))"
   ]
  },
  {
   "cell_type": "code",
   "execution_count": 58,
   "metadata": {},
   "outputs": [
    {
     "data": {
      "text/plain": [
       "55.50000000000001"
      ]
     },
     "execution_count": 58,
     "metadata": {},
     "output_type": "execute_result"
    }
   ],
   "source": [
    "float(111)/float(200)*100"
   ]
  },
  {
   "cell_type": "code",
   "execution_count": 71,
   "metadata": {},
   "outputs": [
    {
     "ename": "SyntaxError",
     "evalue": "invalid syntax (<ipython-input-71-c5fbda997fdc>, line 1)",
     "output_type": "error",
     "traceback": [
      "\u001b[1;36m  File \u001b[1;32m\"<ipython-input-71-c5fbda997fdc>\"\u001b[1;36m, line \u001b[1;32m1\u001b[0m\n\u001b[1;33m    print('The pos % is '{:.1%}'.format(float(111)/float(200)*100))\u001b[0m\n\u001b[1;37m                         ^\u001b[0m\n\u001b[1;31mSyntaxError\u001b[0m\u001b[1;31m:\u001b[0m invalid syntax\n"
     ]
    }
   ],
   "source": [
    "print('The pos % is '{:.1%}.format(float(111)/float(200)*100))"
   ]
  },
  {
   "cell_type": "code",
   "execution_count": 72,
   "metadata": {},
   "outputs": [
    {
     "data": {
      "text/plain": [
       "26.5"
      ]
     },
     "execution_count": 72,
     "metadata": {},
     "output_type": "execute_result"
    }
   ],
   "source": [
    "(float(53)/float(200))*100"
   ]
  },
  {
   "cell_type": "code",
   "execution_count": null,
   "metadata": {
    "collapsed": true
   },
   "outputs": [],
   "source": []
  }
 ],
 "metadata": {
  "kernelspec": {
   "display_name": "Python 2",
   "language": "python",
   "name": "python2"
  },
  "language_info": {
   "codemirror_mode": {
    "name": "ipython",
    "version": 2
   },
   "file_extension": ".py",
   "mimetype": "text/x-python",
   "name": "python",
   "nbconvert_exporter": "python",
   "pygments_lexer": "ipython2",
   "version": "2.7.13"
  }
 },
 "nbformat": 4,
 "nbformat_minor": 2
}
